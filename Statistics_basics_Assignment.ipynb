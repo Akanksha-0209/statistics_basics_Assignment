{
  "nbformat": 4,
  "nbformat_minor": 0,
  "metadata": {
    "colab": {
      "provenance": []
    },
    "kernelspec": {
      "name": "python3",
      "display_name": "Python 3"
    },
    "language_info": {
      "name": "python"
    }
  },
  "cells": [
    {
      "cell_type": "markdown",
      "source": [
        "Assignment Code: DS-AG-005\n",
        "Statistics Basics| Assignment\n",
        "\n",
        "Question 1: What is the difference between descriptive statistics and inferential statistics? Explain with examples.\n",
        "\n",
        "Answer : Descriptive statistics summarize and describe main features of a dataset. Examples are mean, median, mode, standard deviation, and visualizations such as histograms or boxplots.\n",
        "Example: The average score of 15 students in science test.\n",
        "\n",
        "Inferential Statistics use a sample of data to make predictions about a larger population. In includes hypothesis testing, confidence intervals, and regression analysis.\n",
        "Example: Predicting the average score of all students in country by analysing a sample from 20 schools.\n",
        "\n",
        "Question 2: What is sampling in statistics? Explain the differences between random and stratified sampling.\n",
        "\n",
        "Answer: Sampling is the process of selecting a subset of individuals from a population to estimate characteristics of whole population.\n",
        "Random Sampling: Every individual has an equal chance of being selected. Example: Picking 200 students from a university.\n",
        "Stratified Sampling: The population is divided into strata and random samples are taken from each strata. Example: Dividing employees by departments and sampling from each department.\n",
        "\n",
        "Question 3: Define mean, median, and mode. Explain why these measures of central tendency are important.\n",
        "\n",
        "Answer:\n",
        "\n",
        "Mean: The average of all the values in data.\n",
        "\n",
        "Median: Middle value of the sorted data.\n",
        "\n",
        "Mode: The value that occurred frequently in given data.\n",
        "\n",
        "These measures summarize and describe data with single representative value and help in understanding the distribution and identifying skewness.\n",
        "\n",
        "Question 4: Explain skewness and kurtosis. What does a positive skew imply about the data?\n",
        "\n",
        "Answer: Skewness measures the asymmetry of a distribution.\n",
        "Positively skewed distribution – Tail on the right i.e., mean > median.\n",
        "Negatively skewed distribution – Tail on the left i.e. mean < median.\n",
        "Kurtosis measures the “tailedness” of the distribution. High kurtosis: More extreme values (heavy tails). Low kurtosis: Fewer outliers (light tails).\n",
        "Positive skew implies more lower values and a few very larger values pulling the mean to the right.\n"
      ],
      "metadata": {
        "id": "jutd_2JiQtNb"
      }
    },
    {
      "cell_type": "markdown",
      "source": [
        "Question 5:  Implement a Python program to compute the mean, median, and mode of a given list of numbers.\n",
        "\n",
        "numbers = [12, 15, 12, 18, 19, 12, 20, 22, 19, 19, 24, 24, 24, 26, 28]"
      ],
      "metadata": {
        "id": "3yPb0KaiRN7G"
      }
    },
    {
      "cell_type": "code",
      "execution_count": 1,
      "metadata": {
        "id": "-NQDPUarQdAm",
        "colab": {
          "base_uri": "https://localhost:8080/"
        },
        "outputId": "0602f7ea-0ca0-4996-a133-0f4af7711449"
      },
      "outputs": [
        {
          "output_type": "stream",
          "name": "stdout",
          "text": [
            "Mean: 19.6\n",
            "Median: 19\n",
            "Mode: 12\n"
          ]
        }
      ],
      "source": [
        "import statistics\n",
        "\n",
        "numbers = [12, 15, 12, 18, 19, 12, 20, 22, 19, 19, 24, 24, 24, 26, 28]\n",
        "\n",
        "mean = statistics.mean(numbers)\n",
        "median = statistics.median(numbers)\n",
        "mode = statistics.mode(numbers)\n",
        "\n",
        "print(\"Mean:\", mean)\n",
        "print(\"Median:\", median)\n",
        "print(\"Mode:\", mode)"
      ]
    },
    {
      "cell_type": "markdown",
      "source": [
        "Question 6: Compute the covariance and correlation coefficient between the following two datasets provided as lists in Python:\n",
        "\n",
        "\n",
        "list_x = [10, 20, 30, 40, 50]\n",
        "\n",
        "list_y = [15, 25, 35, 45, 60]\n",
        "\n",
        "Answer:\n"
      ],
      "metadata": {
        "id": "6-71p5XkRfA1"
      }
    },
    {
      "cell_type": "code",
      "source": [
        "import numpy as np\n",
        "list_x = [10, 20, 30, 40, 50]\n",
        "list_y = [15, 25, 35, 45, 60]\n",
        "\n",
        "cov = np.cov(list_x, list_y, bias=True)[0][1]\n",
        "corr = np.corrcoef(list_x, list_y)[0][1]\n",
        "\n",
        "print(\"Covariance:\", cov)\n",
        "print(\"Correlation:\", corr)"
      ],
      "metadata": {
        "colab": {
          "base_uri": "https://localhost:8080/"
        },
        "id": "pwQpnIOzRYXH",
        "outputId": "cab573d4-f532-48f8-a4d8-6ceaa279322a"
      },
      "execution_count": 2,
      "outputs": [
        {
          "output_type": "stream",
          "name": "stdout",
          "text": [
            "Covariance: 220.0\n",
            "Correlation: 0.995893206467704\n"
          ]
        }
      ]
    },
    {
      "cell_type": "markdown",
      "source": [
        "Question 7: Write a Python script to draw a boxplot for the following numeric list and\n",
        "identify its outliers. Explain the result:\n",
        "\n",
        "data = [12, 14, 14, 15, 18, 19, 19, 21, 22, 22, 23, 23, 24, 26, 29, 35]\n"
      ],
      "metadata": {
        "id": "k6Va0eXeRq3T"
      }
    },
    {
      "cell_type": "code",
      "source": [
        "import matplotlib.pyplot as plt\n",
        "import seaborn as sns\n",
        "\n",
        "data = [12, 14, 14, 15, 18, 19, 19, 21, 22, 22, 23, 23, 24, 26, 29, 35]\n",
        "\n",
        "sns.boxplot(data=data)\n",
        "plt.title(\"Boxplot\")\n",
        "plt.show()\n"
      ],
      "metadata": {
        "colab": {
          "base_uri": "https://localhost:8080/",
          "height": 433
        },
        "id": "SyIZw53IRoJv",
        "outputId": "2663bccb-0158-4d5a-9a71-62d0614af6c6"
      },
      "execution_count": 3,
      "outputs": [
        {
          "output_type": "display_data",
          "data": {
            "text/plain": [
              "<Figure size 640x480 with 1 Axes>"
            ],
            "image/png": "[encoded data removed]"
          },
          "metadata": {}
        }
      ]
    },
    {
      "cell_type": "markdown",
      "source": [
        "Question 8: You are working as a data analyst in an e-commerce company. The marketing team wants to know if there is a relationship between advertising spend and daily sales.\n",
        "\n",
        "● Explain how you would use covariance and correlation to explore this relationship.\n",
        "\n",
        "● Write Python code to compute the correlation between the two lists:\n",
        "\n",
        "advertising_spend = [200, 250, 300, 400, 500]\n",
        "\n",
        "daily_sales = [2200, 2450, 2750, 3200, 4000]\n"
      ],
      "metadata": {
        "id": "4KdW0DHjR5ZF"
      }
    },
    {
      "cell_type": "markdown",
      "source": [
        "Answer : Covariance shows the direction of the relationship\n",
        "Correlation standardizes it between -1 and 1 to indicate strength and direction.\n"
      ],
      "metadata": {
        "id": "mYtWBWcWSFiJ"
      }
    },
    {
      "cell_type": "code",
      "source": [
        "advertising_spend = [200, 250, 300, 400, 500]\n",
        "daily_sales = [2200, 2450, 2750, 3200, 4000]\n",
        "\n",
        "corr = np.corrcoef(advertising_spend, daily_sales)[0][1]\n",
        "print(\"Correlation:\", corr)\n"
      ],
      "metadata": {
        "colab": {
          "base_uri": "https://localhost:8080/"
        },
        "id": "wIdtVs8CR2UJ",
        "outputId": "911ebc95-0f75-4e94-cdbd-b0ef48ee4589"
      },
      "execution_count": 4,
      "outputs": [
        {
          "output_type": "stream",
          "name": "stdout",
          "text": [
            "Correlation: 0.9935824101653329\n"
          ]
        }
      ]
    },
    {
      "cell_type": "markdown",
      "source": [
        "Question 9: Your team has collected customer satisfaction survey data on a scale of 1-10 and wants to understand its distribution before launching a new product.\n",
        "\n",
        "● Explain which summary statistics and visualizations (e.g. mean, standard deviation, histogram) you’d use.\n",
        "\n",
        "● Write Python code to create a histogram using Matplotlib for the survey data:\n",
        "survey_scores = [7, 8, 5, 9, 6, 7, 8, 9, 10, 4, 7, 6, 9, 8, 7]\n"
      ],
      "metadata": {
        "id": "RkMYOkBkSNIl"
      }
    },
    {
      "cell_type": "markdown",
      "source": [
        "Answer: Use mean, standard deviation, and histogram to understand spread and shape."
      ],
      "metadata": {
        "id": "zTlHh1gzSWM_"
      }
    },
    {
      "cell_type": "code",
      "source": [
        "import matplotlib.pyplot as plt\n",
        "import numpy as np\n",
        "\n",
        "survey_scores = [7, 8, 5, 9, 6, 7, 8, 9, 10, 4, 7, 6, 9, 8, 7]\n",
        "\n",
        "mean = np.mean(survey_scores)\n",
        "std_dev = np.std(survey_scores)\n",
        "print(\"Mean:\", mean)\n",
        "print(\"Standard Deviation:\", std_dev)\n",
        "\n",
        "plt.hist(survey_scores, bins=6, edgecolor=\"black\")\n",
        "plt.title(\"Survey Score Distribution\")\n",
        "plt.ylabel(\"Frequency\")\n",
        "plt.show()\n"
      ],
      "metadata": {
        "colab": {
          "base_uri": "https://localhost:8080/",
          "height": 487
        },
        "id": "XAgYim01SMW9",
        "outputId": "3e2805b6-01b7-489a-87b0-c8b91094448b"
      },
      "execution_count": 5,
      "outputs": [
        {
          "output_type": "stream",
          "name": "stdout",
          "text": [
            "Mean: 7.333333333333333\n",
            "Standard Deviation: 1.577621275493231\n"
          ]
        },
        {
          "output_type": "display_data",
          "data": {
            "text/plain": [
              "<Figure size 640x480 with 1 Axes>"
            ],
            "image/png": "[encoded data removed]"
          },
          "metadata": {}
        }
      ]
    },
    {
      "cell_type": "code",
      "source": [],
      "metadata": {
        "id": "mxetlxylSdyn"
      },
      "execution_count": null,
      "outputs": []
    }
  ]
}